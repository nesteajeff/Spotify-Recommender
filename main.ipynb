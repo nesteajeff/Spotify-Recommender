{
 "cells": [
  {
   "cell_type": "markdown",
   "metadata": {},
   "source": [
    "# Spotify Recommender"
   ]
  },
  {
   "cell_type": "markdown",
   "metadata": {},
   "source": [
    "## Project Inspiration\n",
    "I've always loved listening to music and exploring all the different songs that are available. I've also recently been very captivated by artifical intelligence and the many ways it can be used to create applications that can better the world. I figured, why not combine the two into a project? \n",
    "\n",
    "As someone who loves getting recommendations for songs from friends and family, I decided to create this application that recommends songs so that I, and anyone who uses this application, can get recommended new songs to enjoy."
   ]
  },
  {
   "cell_type": "markdown",
   "metadata": {},
   "source": [
    "## Starting the Project\n",
    "**1. Learning about machine learning:** I first learned about many of the basics of machine learning such as exploratory data analysis and feature engineering, and then I learned more about the different libraries that can be used for machine learning, such as scikit-learn and TensorFlow.\n",
    "\n",
    "**2. Learning about Spotify API:** I then learned about Spotify's API to learn how to extract information on tracks, artists, etc."
   ]
  },
  {
   "cell_type": "markdown",
   "metadata": {},
   "source": [
    "## Begin Code"
   ]
  },
  {
   "cell_type": "markdown",
   "metadata": {},
   "source": [
    "#### Setting up the environment"
   ]
  },
  {
   "cell_type": "code",
   "execution_count": 1,
   "metadata": {},
   "outputs": [
    {
     "name": "stdout",
     "output_type": "stream",
     "text": [
      "Intel MKL WARNING: Support of Intel(R) Streaming SIMD Extensions 4.2 (Intel(R) SSE4.2) enabled only processors has been deprecated. Intel oneAPI Math Kernel Library 2025.0 will require Intel(R) Advanced Vector Extensions (Intel(R) AVX) instructions.\n",
      "Intel MKL WARNING: Support of Intel(R) Streaming SIMD Extensions 4.2 (Intel(R) SSE4.2) enabled only processors has been deprecated. Intel oneAPI Math Kernel Library 2025.0 will require Intel(R) Advanced Vector Extensions (Intel(R) AVX) instructions.\n"
     ]
    }
   ],
   "source": [
    "# import necessary libraries\n",
    "from dotenv import load_dotenv\n",
    "import os\n",
    "import base64\n",
    "from requests import post, get\n",
    "import json\n",
    "import pandas as pd\n",
    "import numpy as np\n",
    "import matplotlib as plt\n",
    "\n",
    "# to suppress warnings that I may get\n",
    "import warnings\n",
    "warnings.simplefilter(action='ignore', category=FutureWarning)\n",
    "\n",
    "# set up the environment\n",
    "load_dotenv()\n",
    "client_id = os.getenv(\"CLIENT_ID\")\n",
    "client_secret = os.getenv(\"CLIENT_SECRET\") \n"
   ]
  },
  {
   "cell_type": "markdown",
   "metadata": {},
   "source": [
    "#### Functions to set up token authorization"
   ]
  },
  {
   "cell_type": "code",
   "execution_count": 2,
   "metadata": {},
   "outputs": [],
   "source": [
    "# function to generate the token\n",
    "def get_token():\n",
    "    auth_string = client_id + \":\" + client_secret\n",
    "    auth_bytes = auth_string.encode(\"utf-8\")\n",
    "    auth_base64 = str(base64.b64encode(auth_bytes), \"utf-8\")\n",
    "\n",
    "    url = \"https://accounts.spotify.com/api/token\"\n",
    "    headers = {\n",
    "        \"Authorization\": \"Basic \" + auth_base64,\n",
    "        \"Content-Type\": \"application/x-www-form-urlencoded\"\n",
    "    }\n",
    "    data = {\"grant_type\": \"client_credentials\"}\n",
    "    result = post(url, headers=headers, data=data)\n",
    "    json_result = json.loads(result.content)\n",
    "    token = json_result[\"access_token\"]\n",
    "    return token\n",
    "\n",
    "# function to generate the authorization header\n",
    "def get_auth_header(token):\n",
    "    return {\"Authorization\": \"Bearer \" + token}"
   ]
  },
  {
   "cell_type": "markdown",
   "metadata": {},
   "source": [
    "#### Functions getting info from Spotify's Web API"
   ]
  },
  {
   "cell_type": "code",
   "execution_count": 3,
   "metadata": {},
   "outputs": [],
   "source": [
    "# search for artist by name\n",
    "def search_for_artist(token, artist_name):\n",
    "    url = \"https://api.spotify.com/v1/search\"\n",
    "    headers = get_auth_header(token)\n",
    "    query = f\"?q={artist_name}&type=artist&limit=1\"\n",
    "\n",
    "    query_url = url + query\n",
    "    result = get(query_url, headers=headers)\n",
    "    json_result = json.loads(result.content)[\"artists\"][\"items\"]\n",
    "    if len(json_result) == 0:\n",
    "        print(\"No artist with this name exists...\")\n",
    "        return None\n",
    "    return json_result[0]\n",
    "\n",
    "# search for track by name\n",
    "def search_for_track(token, track_name):\n",
    "    url = \"https://api.spotify.com/v1/search\"\n",
    "    headers = get_auth_header(token)\n",
    "    query = f\"?q={track_name}&type=track&limit=1\"\n",
    "\n",
    "    query_url = url + query\n",
    "    result = get(query_url, headers=headers)\n",
    "    json_result = json.loads(result.content)[\"tracks\"][\"items\"]\n",
    "    if len(json_result) == 0:\n",
    "        print(\"No track with this name exists...\")\n",
    "        return None\n",
    "    return json_result[0]\n",
    "\n",
    "# get artist by artist id\n",
    "def get_artist(token, artist_id):\n",
    "    url = f\"https://api.spotify.com/v1/artists/{artist_id}\"\n",
    "    headers = get_auth_header(token)\n",
    "    result = get(url, headers=headers)\n",
    "    json_result = json.loads(result.content)\n",
    "    return json_result\n",
    "\n",
    "# get songs by artist from artist id\n",
    "def get_songs_by_artist(token, artist_id):\n",
    "    url = f\"https://api.spotify.com/v1/artists/{artist_id}/top-tracks?country=CA\"\n",
    "    headers = get_auth_header(token)\n",
    "    result = get(url, headers=headers)\n",
    "    json_result = json.loads(result.content)[\"tracks\"]\n",
    "    return json_result\n",
    "\n",
    "# get track info from track id\n",
    "def get_track(token, track_id):\n",
    "    url = f\"https://api.spotify.com/v1/tracks/{track_id}\"\n",
    "    headers = get_auth_header(token)\n",
    "    result = get(url, headers=headers)\n",
    "    json_result = json.loads(result.content)\n",
    "    return json_result\n",
    "\n",
    "# get track audio features from track id\n",
    "def get_track_features(token, track_id):\n",
    "    url = f\"https://api.spotify.com/v1/audio-features/{track_id}\"\n",
    "    headers = get_auth_header(token)\n",
    "    result = get(url, headers=headers)\n",
    "    json_result = json.loads(result.content)\n",
    "    return json_result\n",
    "\n",
    "# get all available markets on Spotify (CA, US, etc)\n",
    "def get_markets(token):\n",
    "    url = \"https://api.spotify.com/v1/markets\"\n",
    "    headers = get_auth_header(token)\n",
    "    result = get(url, headers=headers)\n",
    "    json_result = json.loads(result.content)\n",
    "    return json_result\n",
    "\n",
    "# get all available genres in the database\n",
    "def get_genres(token):\n",
    "    url = \"https://api.spotify.com/v1/recommendations/available-genre-seeds\"\n",
    "    headers = get_auth_header(token)\n",
    "    result = get(url, headers=headers)\n",
    "    json_result = json.loads(result.content)\n",
    "    return json_result\n",
    "\n",
    "# get recommendations based on tracks\n",
    "def get_recommendations(token, seed_tracks):\n",
    "    url = f\"https://api.spotify.com/v1/recommendations?market=CA&limit=1&seed_tracks={seed_tracks}\"\n",
    "    headers = get_auth_header(token)\n",
    "    result = get(url, headers=headers)\n",
    "    json_result = json.loads(result.content)['tracks']\n",
    "    return json_result\n"
   ]
  },
  {
   "cell_type": "markdown",
   "metadata": {},
   "source": [
    "#### Set up token and play around with Spotify's API"
   ]
  },
  {
   "cell_type": "code",
   "execution_count": 4,
   "metadata": {},
   "outputs": [
    {
     "name": "stdout",
     "output_type": "stream",
     "text": [
      "Of Monsters and Men Top Tracks\n",
      "1. Little Talks\n",
      "2. Dirty Paws\n",
      "3. Mountain Sound\n"
     ]
    }
   ],
   "source": [
    "# set up token that allows us to use the Spotify API\n",
    "token = get_token()\n",
    "\n",
    "# getting familiar with Spotify API, printing top songs of an artist given their artist name\n",
    "result = search_for_artist(token, \"Of Monsters and Men\")\n",
    "artist_id = result[\"id\"]\n",
    "print(result['name'], \"Top Tracks\")\n",
    "# by default this gives top 10 tracks, but we'll use top 3 for the sake of smaller output\n",
    "songs = get_songs_by_artist(token, artist_id)[:3]\n",
    "for idx, song in enumerate(songs):\n",
    "    print(f\"{idx + 1}. {song['name']}\")"
   ]
  },
  {
   "cell_type": "markdown",
   "metadata": {},
   "source": [
    "## PROJECT PLAN\n",
    "**Problem:** Given a song, recommend a new song.<br><br>\n",
    "**Solution:**\n",
    "1. Load in the dataset\n",
    "2. Perform exploratory data analysis to gain info on the dataset\n",
    "3. Perform feature engineering to remove irrelevant data, mutate data, etc\n",
    "4. Get the user's song/track\n",
    "5. Feature engineer the user's track\n",
    "6. Use cosine similarity to find similarity between user's track, and the tracks in the dataset\n",
    "7. Reveal to the user the track that is the most similar\n",
    "8. Enjoy the recommended song :)"
   ]
  },
  {
   "cell_type": "markdown",
   "metadata": {},
   "source": [
    "## EDA and Feature Engineering"
   ]
  },
  {
   "cell_type": "markdown",
   "metadata": {},
   "source": [
    "#### Load in data from Kaggle dataset"
   ]
  },
  {
   "cell_type": "code",
   "execution_count": 5,
   "metadata": {},
   "outputs": [
    {
     "data": {
      "text/html": [
       "<div>\n",
       "<style scoped>\n",
       "    .dataframe tbody tr th:only-of-type {\n",
       "        vertical-align: middle;\n",
       "    }\n",
       "\n",
       "    .dataframe tbody tr th {\n",
       "        vertical-align: top;\n",
       "    }\n",
       "\n",
       "    .dataframe thead th {\n",
       "        text-align: right;\n",
       "    }\n",
       "</style>\n",
       "<table border=\"1\" class=\"dataframe\">\n",
       "  <thead>\n",
       "    <tr style=\"text-align: right;\">\n",
       "      <th></th>\n",
       "      <th>Unnamed: 0</th>\n",
       "      <th>artist_name</th>\n",
       "      <th>track_name</th>\n",
       "      <th>track_id</th>\n",
       "      <th>popularity</th>\n",
       "      <th>year</th>\n",
       "      <th>genre</th>\n",
       "      <th>danceability</th>\n",
       "      <th>energy</th>\n",
       "      <th>key</th>\n",
       "      <th>loudness</th>\n",
       "      <th>mode</th>\n",
       "      <th>speechiness</th>\n",
       "      <th>acousticness</th>\n",
       "      <th>instrumentalness</th>\n",
       "      <th>liveness</th>\n",
       "      <th>valence</th>\n",
       "      <th>tempo</th>\n",
       "      <th>duration_ms</th>\n",
       "      <th>time_signature</th>\n",
       "    </tr>\n",
       "  </thead>\n",
       "  <tbody>\n",
       "    <tr>\n",
       "      <th>0</th>\n",
       "      <td>0</td>\n",
       "      <td>Jason Mraz</td>\n",
       "      <td>I Won't Give Up</td>\n",
       "      <td>53QF56cjZA9RTuuMZDrSA6</td>\n",
       "      <td>68</td>\n",
       "      <td>2012</td>\n",
       "      <td>acoustic</td>\n",
       "      <td>0.483</td>\n",
       "      <td>0.303</td>\n",
       "      <td>4</td>\n",
       "      <td>-10.058</td>\n",
       "      <td>1</td>\n",
       "      <td>0.0429</td>\n",
       "      <td>0.694</td>\n",
       "      <td>0.0</td>\n",
       "      <td>0.115</td>\n",
       "      <td>0.139</td>\n",
       "      <td>133.406</td>\n",
       "      <td>240166</td>\n",
       "      <td>3</td>\n",
       "    </tr>\n",
       "  </tbody>\n",
       "</table>\n",
       "</div>"
      ],
      "text/plain": [
       "   Unnamed: 0 artist_name       track_name                track_id  \\\n",
       "0           0  Jason Mraz  I Won't Give Up  53QF56cjZA9RTuuMZDrSA6   \n",
       "\n",
       "   popularity  year     genre  danceability  energy  key  loudness  mode  \\\n",
       "0          68  2012  acoustic         0.483   0.303    4   -10.058     1   \n",
       "\n",
       "   speechiness  acousticness  instrumentalness  liveness  valence    tempo  \\\n",
       "0       0.0429         0.694               0.0     0.115    0.139  133.406   \n",
       "\n",
       "   duration_ms  time_signature  \n",
       "0       240166               3  "
      ]
     },
     "execution_count": 5,
     "metadata": {},
     "output_type": "execute_result"
    }
   ],
   "source": [
    "# load in the data and display first track\n",
    "all_song_data = pd.read_csv(\"spotify_data.csv\")\n",
    "\n",
    "# we will be modifying all_song_data so raw_data is to keep original info on tracks in the dataset\n",
    "raw_data = all_song_data\n",
    "all_song_data.head(1)"
   ]
  },
  {
   "cell_type": "code",
   "execution_count": 6,
   "metadata": {},
   "outputs": [
    {
     "data": {
      "text/html": [
       "<div>\n",
       "<style scoped>\n",
       "    .dataframe tbody tr th:only-of-type {\n",
       "        vertical-align: middle;\n",
       "    }\n",
       "\n",
       "    .dataframe tbody tr th {\n",
       "        vertical-align: top;\n",
       "    }\n",
       "\n",
       "    .dataframe thead th {\n",
       "        text-align: right;\n",
       "    }\n",
       "</style>\n",
       "<table border=\"1\" class=\"dataframe\">\n",
       "  <thead>\n",
       "    <tr style=\"text-align: right;\">\n",
       "      <th></th>\n",
       "      <th>artist_name</th>\n",
       "      <th>track_name</th>\n",
       "      <th>track_id</th>\n",
       "      <th>popularity</th>\n",
       "      <th>year</th>\n",
       "      <th>genre</th>\n",
       "      <th>danceability</th>\n",
       "      <th>energy</th>\n",
       "      <th>key</th>\n",
       "      <th>loudness</th>\n",
       "      <th>mode</th>\n",
       "      <th>speechiness</th>\n",
       "      <th>acousticness</th>\n",
       "      <th>instrumentalness</th>\n",
       "      <th>liveness</th>\n",
       "      <th>valence</th>\n",
       "      <th>tempo</th>\n",
       "      <th>duration_ms</th>\n",
       "      <th>time_signature</th>\n",
       "    </tr>\n",
       "  </thead>\n",
       "  <tbody>\n",
       "    <tr>\n",
       "      <th>0</th>\n",
       "      <td>Jason Mraz</td>\n",
       "      <td>I Won't Give Up</td>\n",
       "      <td>53QF56cjZA9RTuuMZDrSA6</td>\n",
       "      <td>68</td>\n",
       "      <td>2012</td>\n",
       "      <td>acoustic</td>\n",
       "      <td>0.483</td>\n",
       "      <td>0.303</td>\n",
       "      <td>4</td>\n",
       "      <td>-10.058</td>\n",
       "      <td>1</td>\n",
       "      <td>0.0429</td>\n",
       "      <td>0.694</td>\n",
       "      <td>0.0</td>\n",
       "      <td>0.115</td>\n",
       "      <td>0.139</td>\n",
       "      <td>133.406</td>\n",
       "      <td>240166</td>\n",
       "      <td>3</td>\n",
       "    </tr>\n",
       "  </tbody>\n",
       "</table>\n",
       "</div>"
      ],
      "text/plain": [
       "  artist_name       track_name                track_id  popularity  year  \\\n",
       "0  Jason Mraz  I Won't Give Up  53QF56cjZA9RTuuMZDrSA6          68  2012   \n",
       "\n",
       "      genre  danceability  energy  key  loudness  mode  speechiness  \\\n",
       "0  acoustic         0.483   0.303    4   -10.058     1       0.0429   \n",
       "\n",
       "   acousticness  instrumentalness  liveness  valence    tempo  duration_ms  \\\n",
       "0         0.694               0.0     0.115    0.139  133.406       240166   \n",
       "\n",
       "   time_signature  \n",
       "0               3  "
      ]
     },
     "execution_count": 6,
     "metadata": {},
     "output_type": "execute_result"
    }
   ],
   "source": [
    "# drop the first column since it is just the index\n",
    "all_song_data = all_song_data.drop(all_song_data.columns[0], axis=1)\n",
    "all_song_data.head(1)"
   ]
  },
  {
   "cell_type": "code",
   "execution_count": 7,
   "metadata": {},
   "outputs": [
    {
     "name": "stdout",
     "output_type": "stream",
     "text": [
      "Of Monsters and Men Genres: ['folk-pop', 'metropopolis', 'modern rock', 'stomp and holler']\n",
      "Jason Mraz Genres: ['acoustic pop', 'dance pop', 'neo mellow', 'pop']\n"
     ]
    }
   ],
   "source": [
    "# check the format of genres in Spotify's API (since it could be different from the format in the dataset)\n",
    "\n",
    "# the artist stored in artist_id is Of Monsters and Men from above\n",
    "artist_genre = get_artist(token, artist_id)['genres']\n",
    "# print their genres\n",
    "print('Of Monsters and Men Genres:', artist_genre)\n",
    "\n",
    "# showing how to get an artist's genres given the artist name\n",
    "jason_mraz = search_for_artist(token, \"Jason Mraz\")['id']\n",
    "jason_genre = get_artist(token, jason_mraz)['genres']\n",
    "print('Jason Mraz Genres:', jason_genre)\n",
    "\n",
    "# get all unique genres in the dataset\n",
    "kaggle_genres = list(all_song_data['genre'].unique())\n",
    "# we store in a variable to show reduction in genres size which we will perform later\n",
    "orig_len_genres = len(kaggle_genres)"
   ]
  },
  {
   "cell_type": "markdown",
   "metadata": {},
   "source": [
    "#### Manually reduce amount of genres"
   ]
  },
  {
   "cell_type": "code",
   "execution_count": 8,
   "metadata": {},
   "outputs": [
    {
     "name": "stdout",
     "output_type": "stream",
     "text": [
      "We've reduced the number of genres by 19.\n"
     ]
    }
   ],
   "source": [
    "# list of genres to remove\n",
    "remove_genres = []\n",
    "# loop through all genres\n",
    "for genre in kaggle_genres:\n",
    "    # there are 4 subgenres of metal that can be reduced to just metal\n",
    "    if 'metal' in genre and genre != 'metal':\n",
    "        remove_genres.append(genre)\n",
    "    # there are 3 subgenres of house that can be reduced to just house\n",
    "    if 'house' in genre and genre != 'house':\n",
    "        remove_genres.append(genre)\n",
    "    # there are 5 subgenres of rock that can be reduced to just rock\n",
    "    if 'rock' in genre and genre != 'rock':\n",
    "        remove_genres.append(genre)\n",
    "\n",
    "# all these fit into pop and edm\n",
    "pop_edm_subs = ['pop-film', 'power-pop', 'techno', 'minimal-techno', 'electronic', 'electro', 'dubstep']\n",
    "for genre in pop_edm_subs:\n",
    "    remove_genres.append(genre)\n",
    "\n",
    "# remove the genres in remove_genres\n",
    "for genre in remove_genres:\n",
    "    kaggle_genres.remove(genre)\n",
    "\n",
    "print('We\\'ve reduced the number of genres by', str(orig_len_genres - len(kaggle_genres)) + '.')\n"
   ]
  },
  {
   "cell_type": "markdown",
   "metadata": {},
   "source": [
    "#### Map values in dataset to remaining genres"
   ]
  },
  {
   "cell_type": "code",
   "execution_count": 9,
   "metadata": {},
   "outputs": [
    {
     "name": "stdout",
     "output_type": "stream",
     "text": [
      "Number of genres in the dataset: 63\n"
     ]
    }
   ],
   "source": [
    "# map the subgenres that we removed above to their associated genres\n",
    "map_genre = {\n",
    "    'alt-rock': 'rock', 'hard-rock': 'rock', 'psych-rock': 'rock', 'punk-rock': 'rock', 'rock-n-roll': 'rock',\n",
    "    'pop-film': 'pop', 'power-pop': 'pop',\n",
    "    'black-metal': 'metal', 'death-metal': 'metal', 'heavy-metal': 'metal', 'metalcore': 'metal',\n",
    "    'chicago-house': 'house', 'deep-house': 'house', 'progressive-house': 'house',\n",
    "    'techno': 'edm', 'minimal-techno': 'edm', 'electronic': 'edm', 'electro': 'edm', 'dubstep': 'edm'}\n",
    "# map, and keep genre name if it doesn't exist in the map\n",
    "all_song_data['genre'] = all_song_data['genre'].map(map_genre).fillna(all_song_data['genre'])\n",
    "print('Number of genres in the dataset:', len(all_song_data['genre'].unique()))\n"
   ]
  },
  {
   "cell_type": "markdown",
   "metadata": {},
   "source": [
    "#### One Hot Encode the Genres in Kaggle Dataset"
   ]
  },
  {
   "cell_type": "code",
   "execution_count": 10,
   "metadata": {},
   "outputs": [
    {
     "data": {
      "text/html": [
       "<div>\n",
       "<style scoped>\n",
       "    .dataframe tbody tr th:only-of-type {\n",
       "        vertical-align: middle;\n",
       "    }\n",
       "\n",
       "    .dataframe tbody tr th {\n",
       "        vertical-align: top;\n",
       "    }\n",
       "\n",
       "    .dataframe thead th {\n",
       "        text-align: right;\n",
       "    }\n",
       "</style>\n",
       "<table border=\"1\" class=\"dataframe\">\n",
       "  <thead>\n",
       "    <tr style=\"text-align: right;\">\n",
       "      <th></th>\n",
       "      <th>acoustic</th>\n",
       "      <th>afrobeat</th>\n",
       "      <th>ambient</th>\n",
       "      <th>blues</th>\n",
       "      <th>breakbeat</th>\n",
       "      <th>cantopop</th>\n",
       "      <th>chill</th>\n",
       "      <th>classical</th>\n",
       "      <th>club</th>\n",
       "      <th>comedy</th>\n",
       "      <th>...</th>\n",
       "      <th>singer-songwriter</th>\n",
       "      <th>ska</th>\n",
       "      <th>sleep</th>\n",
       "      <th>songwriter</th>\n",
       "      <th>soul</th>\n",
       "      <th>spanish</th>\n",
       "      <th>swedish</th>\n",
       "      <th>tango</th>\n",
       "      <th>trance</th>\n",
       "      <th>trip-hop</th>\n",
       "    </tr>\n",
       "  </thead>\n",
       "  <tbody>\n",
       "    <tr>\n",
       "      <th>0</th>\n",
       "      <td>1.0</td>\n",
       "      <td>0.0</td>\n",
       "      <td>0.0</td>\n",
       "      <td>0.0</td>\n",
       "      <td>0.0</td>\n",
       "      <td>0.0</td>\n",
       "      <td>0.0</td>\n",
       "      <td>0.0</td>\n",
       "      <td>0.0</td>\n",
       "      <td>0.0</td>\n",
       "      <td>...</td>\n",
       "      <td>0.0</td>\n",
       "      <td>0.0</td>\n",
       "      <td>0.0</td>\n",
       "      <td>0.0</td>\n",
       "      <td>0.0</td>\n",
       "      <td>0.0</td>\n",
       "      <td>0.0</td>\n",
       "      <td>0.0</td>\n",
       "      <td>0.0</td>\n",
       "      <td>0.0</td>\n",
       "    </tr>\n",
       "  </tbody>\n",
       "</table>\n",
       "<p>1 rows × 63 columns</p>\n",
       "</div>"
      ],
      "text/plain": [
       "   acoustic  afrobeat  ambient  blues  breakbeat  cantopop  chill  classical  \\\n",
       "0       1.0       0.0      0.0    0.0        0.0       0.0    0.0        0.0   \n",
       "\n",
       "   club  comedy  ...  singer-songwriter  ska  sleep  songwriter  soul  \\\n",
       "0   0.0     0.0  ...                0.0  0.0    0.0         0.0   0.0   \n",
       "\n",
       "   spanish  swedish  tango  trance  trip-hop  \n",
       "0      0.0      0.0    0.0     0.0       0.0  \n",
       "\n",
       "[1 rows x 63 columns]"
      ]
     },
     "execution_count": 10,
     "metadata": {},
     "output_type": "execute_result"
    }
   ],
   "source": [
    "from sklearn.preprocessing import OneHotEncoder\n",
    "\n",
    "\n",
    "ohe = OneHotEncoder()\n",
    "# one hot encode the genre column of song data\n",
    "genre_array = ohe.fit_transform(all_song_data[['genre']]).toarray()\n",
    "# get the labels (genre names) from the one hot encoder\n",
    "genre_labels = ohe.categories_[0]\n",
    "# make into a dataframe\n",
    "genres = pd.DataFrame(genre_array, columns=genre_labels)\n",
    "genres.head(1)"
   ]
  },
  {
   "cell_type": "code",
   "execution_count": 11,
   "metadata": {},
   "outputs": [],
   "source": [
    "# concatenate the original DataFrame to the One Hot Encoded genres\n",
    "all_song_data = pd.concat([all_song_data, genres], axis=1)\n",
    "\n",
    "# drop the genres column\n",
    "all_song_data = all_song_data.drop('genre', axis=1)"
   ]
  },
  {
   "cell_type": "code",
   "execution_count": 12,
   "metadata": {},
   "outputs": [],
   "source": [
    "# dropping columns that don't help with machine learning to suggest songs (note that artist contributes already through their genre)\n",
    "all_song_data = all_song_data.drop(['track_id', 'track_name', 'artist_name', 'popularity', 'duration_ms'], axis=1)"
   ]
  },
  {
   "cell_type": "code",
   "execution_count": 13,
   "metadata": {},
   "outputs": [
    {
     "data": {
      "text/html": [
       "<div>\n",
       "<style scoped>\n",
       "    .dataframe tbody tr th:only-of-type {\n",
       "        vertical-align: middle;\n",
       "    }\n",
       "\n",
       "    .dataframe tbody tr th {\n",
       "        vertical-align: top;\n",
       "    }\n",
       "\n",
       "    .dataframe thead th {\n",
       "        text-align: right;\n",
       "    }\n",
       "</style>\n",
       "<table border=\"1\" class=\"dataframe\">\n",
       "  <thead>\n",
       "    <tr style=\"text-align: right;\">\n",
       "      <th></th>\n",
       "      <th>year</th>\n",
       "      <th>danceability</th>\n",
       "      <th>energy</th>\n",
       "      <th>key</th>\n",
       "      <th>loudness</th>\n",
       "      <th>mode</th>\n",
       "      <th>speechiness</th>\n",
       "      <th>acousticness</th>\n",
       "      <th>instrumentalness</th>\n",
       "      <th>liveness</th>\n",
       "      <th>valence</th>\n",
       "      <th>tempo</th>\n",
       "      <th>time_signature</th>\n",
       "    </tr>\n",
       "  </thead>\n",
       "  <tbody>\n",
       "    <tr>\n",
       "      <th>0</th>\n",
       "      <td>2012</td>\n",
       "      <td>0.483</td>\n",
       "      <td>0.303</td>\n",
       "      <td>4</td>\n",
       "      <td>-10.058</td>\n",
       "      <td>1</td>\n",
       "      <td>0.0429</td>\n",
       "      <td>0.694</td>\n",
       "      <td>0.0</td>\n",
       "      <td>0.115</td>\n",
       "      <td>0.139</td>\n",
       "      <td>133.406</td>\n",
       "      <td>3</td>\n",
       "    </tr>\n",
       "  </tbody>\n",
       "</table>\n",
       "</div>"
      ],
      "text/plain": [
       "   year  danceability  energy  key  loudness  mode  speechiness  acousticness  \\\n",
       "0  2012         0.483   0.303    4   -10.058     1       0.0429         0.694   \n",
       "\n",
       "   instrumentalness  liveness  valence    tempo  time_signature  \n",
       "0               0.0     0.115    0.139  133.406               3  "
      ]
     },
     "execution_count": 13,
     "metadata": {},
     "output_type": "execute_result"
    }
   ],
   "source": [
    "# checking data to see make sure we've removed all useless columns, to index 13 because after is just genres\n",
    "all_song_data.iloc[0:1, 0:13]"
   ]
  },
  {
   "cell_type": "markdown",
   "metadata": {},
   "source": [
    "#### Scale the features\n",
    "We use the StandardScaler from scikit-learn to scale the features so that each feature has the same affect on the similarities between songs when we later use cosine similarity to calculate similarities between two tracks. The StandardScaler makes the mean of each column 0 and the standard deviation of each column 1.\n",
    "\n",
    "Note: if we were to use a model to create the parameters then we would not need to scale since the model would do it for us."
   ]
  },
  {
   "cell_type": "code",
   "execution_count": 14,
   "metadata": {},
   "outputs": [
    {
     "data": {
      "text/html": [
       "<div>\n",
       "<style scoped>\n",
       "    .dataframe tbody tr th:only-of-type {\n",
       "        vertical-align: middle;\n",
       "    }\n",
       "\n",
       "    .dataframe tbody tr th {\n",
       "        vertical-align: top;\n",
       "    }\n",
       "\n",
       "    .dataframe thead th {\n",
       "        text-align: right;\n",
       "    }\n",
       "</style>\n",
       "<table border=\"1\" class=\"dataframe\">\n",
       "  <thead>\n",
       "    <tr style=\"text-align: right;\">\n",
       "      <th></th>\n",
       "      <th>year</th>\n",
       "      <th>danceability</th>\n",
       "      <th>energy</th>\n",
       "      <th>key</th>\n",
       "      <th>loudness</th>\n",
       "      <th>mode</th>\n",
       "      <th>speechiness</th>\n",
       "      <th>acousticness</th>\n",
       "      <th>instrumentalness</th>\n",
       "      <th>liveness</th>\n",
       "      <th>...</th>\n",
       "      <th>singer-songwriter</th>\n",
       "      <th>ska</th>\n",
       "      <th>sleep</th>\n",
       "      <th>songwriter</th>\n",
       "      <th>soul</th>\n",
       "      <th>spanish</th>\n",
       "      <th>swedish</th>\n",
       "      <th>tango</th>\n",
       "      <th>trance</th>\n",
       "      <th>trip-hop</th>\n",
       "    </tr>\n",
       "  </thead>\n",
       "  <tbody>\n",
       "    <tr>\n",
       "      <th>0</th>\n",
       "      <td>0.006614</td>\n",
       "      <td>-0.295093</td>\n",
       "      <td>-1.244617</td>\n",
       "      <td>-0.362224</td>\n",
       "      <td>-0.189477</td>\n",
       "      <td>0.758725</td>\n",
       "      <td>-0.393523</td>\n",
       "      <td>1.04923</td>\n",
       "      <td>-0.691229</td>\n",
       "      <td>-0.537219</td>\n",
       "      <td>...</td>\n",
       "      <td>-0.110679</td>\n",
       "      <td>-0.109641</td>\n",
       "      <td>-0.12503</td>\n",
       "      <td>-0.022542</td>\n",
       "      <td>-0.088307</td>\n",
       "      <td>-0.129601</td>\n",
       "      <td>-0.100584</td>\n",
       "      <td>-0.114735</td>\n",
       "      <td>-0.091322</td>\n",
       "      <td>-0.099126</td>\n",
       "    </tr>\n",
       "  </tbody>\n",
       "</table>\n",
       "<p>1 rows × 76 columns</p>\n",
       "</div>"
      ],
      "text/plain": [
       "       year  danceability    energy       key  loudness      mode  \\\n",
       "0  0.006614     -0.295093 -1.244617 -0.362224 -0.189477  0.758725   \n",
       "\n",
       "   speechiness  acousticness  instrumentalness  liveness  ...  \\\n",
       "0    -0.393523       1.04923         -0.691229 -0.537219  ...   \n",
       "\n",
       "   singer-songwriter       ska    sleep  songwriter      soul   spanish  \\\n",
       "0          -0.110679 -0.109641 -0.12503   -0.022542 -0.088307 -0.129601   \n",
       "\n",
       "    swedish     tango    trance  trip-hop  \n",
       "0 -0.100584 -0.114735 -0.091322 -0.099126  \n",
       "\n",
       "[1 rows x 76 columns]"
      ]
     },
     "execution_count": 14,
     "metadata": {},
     "output_type": "execute_result"
    }
   ],
   "source": [
    "from sklearn.preprocessing import StandardScaler\n",
    "\n",
    "\n",
    "# keep the original data in a variable so that we can later use it to calculate mean and std so that we can scale the new user's track\n",
    "original_data = all_song_data\n",
    "\n",
    "scaler = StandardScaler()\n",
    "scaled_songs = scaler.fit_transform(all_song_data)\n",
    "all_song_data = pd.DataFrame(scaled_songs, columns=all_song_data.columns, index=all_song_data.index)\n",
    "all_song_data.head(1)\n"
   ]
  },
  {
   "cell_type": "markdown",
   "metadata": {},
   "source": [
    "#### Load in the user's track based on ID"
   ]
  },
  {
   "cell_type": "code",
   "execution_count": 15,
   "metadata": {},
   "outputs": [
    {
     "name": "stdout",
     "output_type": "stream",
     "text": [
      "alt z in genres: False\n"
     ]
    }
   ],
   "source": [
    "# allow user to enter in name of song to use\n",
    "user_track = input('What is the name of your song? ')\n",
    "\n",
    "# Here we search for song by name and then use the id given to us to get the track info\n",
    "track_name = search_for_track(token, user_track)\n",
    "track_id = track_name['id']\n",
    "\n",
    "track = get_track(token, track_id)\n",
    "track_features = get_track_features(token, track_id)\n",
    "\n",
    "# only taking the first artist on the track for now\n",
    "track_artist = track['artists']\n",
    "first_artist = track_artist[0]\n",
    "artist_id = first_artist['id']\n",
    "\n",
    "artist = get_artist(token, artist_id)\n",
    "first_genre = artist['genres'][0]\n",
    "\n",
    "# we see here that the genres do not perfectly line up\n",
    "genres = get_genres(token)['genres']\n",
    "print(first_genre, 'in genres:', first_genre in genres)\n"
   ]
  },
  {
   "cell_type": "markdown",
   "metadata": {},
   "source": [
    "#### Match up columns of existing tracks data with the new track"
   ]
  },
  {
   "cell_type": "code",
   "execution_count": 16,
   "metadata": {},
   "outputs": [
    {
     "name": "stdout",
     "output_type": "stream",
     "text": [
      "Genres for Sasha Alex Sloan: ['indie-pop']\n",
      "Genres that encapsulate 'french-pop': ['french', 'pop']\n"
     ]
    }
   ],
   "source": [
    "# note: release date might be slightly off due to this being the release date of the album rather than the track\n",
    "release_year = track['album']['release_date'][0:4]\n",
    "\n",
    "# get the audio features of the track\n",
    "danceability = track_features['danceability']\n",
    "energy = track_features['energy']\n",
    "key = track_features['key']\n",
    "loudness = track_features['loudness']\n",
    "mode = track_features['mode']\n",
    "speechiness = track_features['speechiness']\n",
    "acousticness = track_features['acousticness']\n",
    "instrumentalness = track_features['instrumentalness']\n",
    "liveness = track_features['liveness']\n",
    "valence = track_features['valence']\n",
    "tempo = track_features['tempo']\n",
    "time_signature = track_features['time_signature']\n",
    "\n",
    "# put the info into an array\n",
    "track_info = [release_year, danceability, energy, key, loudness, mode, speechiness, acousticness, instrumentalness, liveness, valence, tempo, time_signature]\n",
    "\n",
    "# set up the genres of the given track\n",
    "tracks_genres = []\n",
    "\n",
    "# note: we will have to use the artists' genres since individual tracks do not have genres\n",
    "artist_genres = artist['genres']\n",
    "\n",
    "# if the genre name is somewhere in the artist's genres then append to the tracks genres\n",
    "for genre in kaggle_genres:\n",
    "    for tGenre in artist_genres:\n",
    "        if genre in tGenre:\n",
    "            tracks_genres.append(genre)\n",
    "\n",
    "# special case for alternative music, which I manually fit into the indie-pop genre\n",
    "for tGenre in artist_genres:\n",
    "    if 'indie-pop' not in tracks_genres and 'alt' in tGenre:\n",
    "        tracks_genres.append('indie-pop')\n",
    "curr_artist = artist['name']\n",
    "print('Genres for', curr_artist + \":\", tracks_genres)\n",
    "\n",
    "tracks_genres = []\n",
    "\n",
    "# example to show that a genre can fit into multiple genre columns\n",
    "artist_genres = ['french-pop']\n",
    "for genre in kaggle_genres:\n",
    "    for tGenre in artist_genres:\n",
    "        if genre in tGenre:\n",
    "            tracks_genres.append(genre)\n",
    "\n",
    "print('Genres that encapsulate \\'french-pop\\':', tracks_genres)\n",
    "\n",
    "# set genre to 1 if it is the track's genre, else 0\n",
    "for genre in kaggle_genres:\n",
    "    if genre in tracks_genres:\n",
    "        track_info.append(1)\n",
    "    else:\n",
    "        track_info.append(0)"
   ]
  },
  {
   "cell_type": "markdown",
   "metadata": {},
   "source": [
    "#### Shift and rescale the track's feature values based on how we shifted database"
   ]
  },
  {
   "cell_type": "code",
   "execution_count": 17,
   "metadata": {},
   "outputs": [
    {
     "data": {
      "text/html": [
       "<div>\n",
       "<style scoped>\n",
       "    .dataframe tbody tr th:only-of-type {\n",
       "        vertical-align: middle;\n",
       "    }\n",
       "\n",
       "    .dataframe tbody tr th {\n",
       "        vertical-align: top;\n",
       "    }\n",
       "\n",
       "    .dataframe thead th {\n",
       "        text-align: right;\n",
       "    }\n",
       "</style>\n",
       "<table border=\"1\" class=\"dataframe\">\n",
       "  <thead>\n",
       "    <tr style=\"text-align: right;\">\n",
       "      <th></th>\n",
       "      <th>year</th>\n",
       "      <th>danceability</th>\n",
       "      <th>energy</th>\n",
       "      <th>key</th>\n",
       "      <th>loudness</th>\n",
       "      <th>mode</th>\n",
       "      <th>speechiness</th>\n",
       "      <th>acousticness</th>\n",
       "      <th>instrumentalness</th>\n",
       "      <th>liveness</th>\n",
       "      <th>...</th>\n",
       "      <th>singer-songwriter</th>\n",
       "      <th>ska</th>\n",
       "      <th>sleep</th>\n",
       "      <th>songwriter</th>\n",
       "      <th>soul</th>\n",
       "      <th>spanish</th>\n",
       "      <th>swedish</th>\n",
       "      <th>tango</th>\n",
       "      <th>trance</th>\n",
       "      <th>trip-hop</th>\n",
       "    </tr>\n",
       "  </thead>\n",
       "  <tbody>\n",
       "    <tr>\n",
       "      <th>0</th>\n",
       "      <td>2012</td>\n",
       "      <td>0.483</td>\n",
       "      <td>0.303</td>\n",
       "      <td>4</td>\n",
       "      <td>-10.058</td>\n",
       "      <td>1</td>\n",
       "      <td>0.0429</td>\n",
       "      <td>0.694</td>\n",
       "      <td>0.0</td>\n",
       "      <td>0.115</td>\n",
       "      <td>...</td>\n",
       "      <td>0.0</td>\n",
       "      <td>0.0</td>\n",
       "      <td>0.0</td>\n",
       "      <td>0.0</td>\n",
       "      <td>0.0</td>\n",
       "      <td>0.0</td>\n",
       "      <td>0.0</td>\n",
       "      <td>0.0</td>\n",
       "      <td>0.0</td>\n",
       "      <td>0.0</td>\n",
       "    </tr>\n",
       "  </tbody>\n",
       "</table>\n",
       "<p>1 rows × 76 columns</p>\n",
       "</div>"
      ],
      "text/plain": [
       "   year  danceability  energy  key  loudness  mode  speechiness  acousticness  \\\n",
       "0  2012         0.483   0.303    4   -10.058     1       0.0429         0.694   \n",
       "\n",
       "   instrumentalness  liveness  ...  singer-songwriter  ska  sleep  songwriter  \\\n",
       "0               0.0     0.115  ...                0.0  0.0    0.0         0.0   \n",
       "\n",
       "   soul  spanish  swedish  tango  trance  trip-hop  \n",
       "0   0.0      0.0      0.0    0.0     0.0       0.0  \n",
       "\n",
       "[1 rows x 76 columns]"
      ]
     },
     "execution_count": 17,
     "metadata": {},
     "output_type": "execute_result"
    }
   ],
   "source": [
    "# recall we still have the original data which is not shifted or scaled\n",
    "original_data.head(1)"
   ]
  },
  {
   "cell_type": "code",
   "execution_count": 18,
   "metadata": {},
   "outputs": [],
   "source": [
    "# use the original values to get mean and std of each feature so that we can shift and rescale the user's track features\n",
    "features_mean = original_data.mean()\n",
    "features_std = original_data.std()\n",
    "num_features = len(track_info)\n",
    "\n",
    "# shift and rescale each feature of the new track based on dataset's mean and std\n",
    "for i in range(num_features):\n",
    "    track_info[i] = float(track_info[i])\n",
    "    track_info[i] = (track_info[i] - features_mean[i]) / features_std[i]"
   ]
  },
  {
   "cell_type": "markdown",
   "metadata": {},
   "source": [
    "#### Use cosine similarity to find track in database most similar to given track"
   ]
  },
  {
   "cell_type": "code",
   "execution_count": 19,
   "metadata": {},
   "outputs": [],
   "source": [
    "# import function that computes cosine_similarity\n",
    "from sklearn.metrics.pairwise import cosine_similarity\n",
    "\n",
    "\n",
    "# convert the list to an array so that we can reshape\n",
    "track_info_arr = np.array(track_info, dtype='float64')\n",
    "# calculate the cosine similarity between the new track and all tracks in the dataset, reshape so that everything lines up\n",
    "cos_sim = cosine_similarity(all_song_data, track_info_arr.reshape((1, -1))).reshape(-1)\n",
    "# find the index with the largest cosine similarity, which would be the track that is most similar\n",
    "sim_index = np.argmax(cos_sim)\n",
    "\n",
    "# get the info about the recommended song including the artist name and track name\n",
    "sim_song_row = raw_data.iloc[sim_index]\n",
    "rec_artist = sim_song_row['artist_name']\n",
    "rec_track = sim_song_row['track_name']"
   ]
  },
  {
   "cell_type": "markdown",
   "metadata": {},
   "source": [
    "#### TIME TO GIVE RECOMMENDATION :)"
   ]
  },
  {
   "cell_type": "code",
   "execution_count": 20,
   "metadata": {},
   "outputs": [
    {
     "name": "stdout",
     "output_type": "stream",
     "text": [
      "Song Recommendation: If you like Dancing With Your Ghost by Sasha Alex Sloan, then we would recommend Ivory - Please by Joe Bel.\n"
     ]
    }
   ],
   "source": [
    "new_track = track['name']\n",
    "new_artist = first_artist['name']\n",
    "print('Song Recommendation: If you like', new_track, 'by', new_artist + ',', 'then we would recommend', rec_track, 'by', rec_artist + '.')"
   ]
  },
  {
   "cell_type": "markdown",
   "metadata": {},
   "source": [
    "## Drawbacks\n",
    "1. We have to use album release dates rather than track release dates\n",
    "2. We use the artist's genres rather than the track's genres\n",
    "3. We only have a dataset of 1 million songs to recommend from, when there exists much more songs out there\n",
    "4. May have weird genre names that don't end up matching to any one hot encoded genres even though they may be same genre category\n",
    "5. Our features currently all have the same weight, realistically a model would discover that certain features play more into similarity than others\n",
    "6. Can only get recommendations for tracks that are the most popular for their given name\n",
    "7. For more unknown songs, there might not be enough info, like no genres, which may cause errors"
   ]
  },
  {
   "cell_type": "markdown",
   "metadata": {},
   "source": [
    "## Conclusion\n",
    "Overall, this application succesfully returns a song recommendation that is similar to the user's given track, but there are definitely many improvements that could be made to this project in the future to increase the accuracy of the recommendations."
   ]
  }
 ],
 "metadata": {
  "kernelspec": {
   "display_name": "Python 3",
   "language": "python",
   "name": "python3"
  },
  "language_info": {
   "codemirror_mode": {
    "name": "ipython",
    "version": 3
   },
   "file_extension": ".py",
   "mimetype": "text/x-python",
   "name": "python",
   "nbconvert_exporter": "python",
   "pygments_lexer": "ipython3",
   "version": "3.10.13"
  }
 },
 "nbformat": 4,
 "nbformat_minor": 2
}
