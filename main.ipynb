{
 "cells": [
  {
   "cell_type": "markdown",
   "metadata": {},
   "source": [
    "# Spotify Recommender\n",
    "#### Setting up the environment"
   ]
  },
  {
   "cell_type": "code",
   "execution_count": 2,
   "metadata": {},
   "outputs": [],
   "source": [
    "# import necessary libraries\n",
    "from dotenv import load_dotenv\n",
    "import os\n",
    "import base64\n",
    "from requests import post, get\n",
    "import json\n",
    "import pandas as pd\n",
    "import numpy as np\n",
    "import matplotlib as plt\n",
    "\n",
    "# set up the environment\n",
    "load_dotenv()\n",
    "client_id = os.getenv(\"CLIENT_ID\")\n",
    "client_secret = os.getenv(\"CLIENT_SECRET\") \n"
   ]
  },
  {
   "cell_type": "markdown",
   "metadata": {},
   "source": [
    "#### Functions to set up token authorization"
   ]
  },
  {
   "cell_type": "code",
   "execution_count": 3,
   "metadata": {},
   "outputs": [],
   "source": [
    "# function to generate the token\n",
    "def get_token():\n",
    "    auth_string = client_id + \":\" + client_secret\n",
    "    auth_bytes = auth_string.encode(\"utf-8\")\n",
    "    auth_base64 = str(base64.b64encode(auth_bytes), \"utf-8\")\n",
    "\n",
    "    url = \"https://accounts.spotify.com/api/token\"\n",
    "    headers = {\n",
    "        \"Authorization\": \"Basic \" + auth_base64,\n",
    "        \"Content-Type\": \"application/x-www-form-urlencoded\"\n",
    "    }\n",
    "    data = {\"grant_type\": \"client_credentials\"}\n",
    "    result = post(url, headers=headers, data=data)\n",
    "    json_result = json.loads(result.content)\n",
    "    token = json_result[\"access_token\"]\n",
    "    return token\n",
    "\n",
    "# function to generate the authorization header\n",
    "def get_auth_header(token):\n",
    "    return {\"Authorization\": \"Bearer \" + token}"
   ]
  },
  {
   "cell_type": "markdown",
   "metadata": {},
   "source": [
    "#### Functions getting info from Spotify's Web API"
   ]
  },
  {
   "cell_type": "code",
   "execution_count": 4,
   "metadata": {},
   "outputs": [],
   "source": [
    "# search for artist by name\n",
    "def search_for_artist(token, artist_name):\n",
    "    url = \"https://api.spotify.com/v1/search\"\n",
    "    headers = get_auth_header(token)\n",
    "    query = f\"?q={artist_name}&type=artist&limit=1\"\n",
    "\n",
    "    query_url = url + query\n",
    "    result = get(query_url, headers=headers)\n",
    "    json_result = json.loads(result.content)[\"artists\"][\"items\"]\n",
    "    if len(json_result) == 0:\n",
    "        print(\"No artist with this name exists...\")\n",
    "        return None\n",
    "    return json_result[0]\n",
    "\n",
    "# search for track by name\n",
    "def search_for_track(token, track_name):\n",
    "    url = \"https://api.spotify.com/v1/search\"\n",
    "    headers = get_auth_header(token)\n",
    "    query = f\"?q={track_name}&type=track&limit=1\"\n",
    "\n",
    "    query_url = url + query\n",
    "    result = get(query_url, headers=headers)\n",
    "    json_result = json.loads(result.content)[\"tracks\"][\"items\"]\n",
    "    if len(json_result) == 0:\n",
    "        print(\"No track with this name exists...\")\n",
    "        return None\n",
    "    return json_result[0]\n",
    "\n",
    "# get artist by artist id\n",
    "def get_artist(token, artist_id):\n",
    "    url = f\"https://api.spotify.com/v1/artists/{artist_id}\"\n",
    "    headers = get_auth_header(token)\n",
    "    result = get(url, headers=headers)\n",
    "    json_result = json.loads(result.content)\n",
    "    return json_result\n",
    "\n",
    "# get songs by artist from artist id\n",
    "def get_songs_by_artist(token, artist_id):\n",
    "    url = f\"https://api.spotify.com/v1/artists/{artist_id}/top-tracks?country=CA\"\n",
    "    headers = get_auth_header(token)\n",
    "    result = get(url, headers=headers)\n",
    "    json_result = json.loads(result.content)[\"tracks\"]\n",
    "    return json_result\n",
    "\n",
    "# get all available markets on Spotify (CA, US, etc)\n",
    "def get_markets(token):\n",
    "    url = \"https://api.spotify.com/v1/markets\"\n",
    "    headers = get_auth_header(token)\n",
    "    result = get(url, headers=headers)\n",
    "    json_result = json.loads(result.content)\n",
    "    return json_result\n",
    "\n",
    "# get all available genres in the database\n",
    "def get_genres(token):\n",
    "    url = \"https://api.spotify.com/v1/recommendations/available-genre-seeds\"\n",
    "    headers = get_auth_header(token)\n",
    "    result = get(url, headers=headers)\n",
    "    print(\"genre result:\", result)\n",
    "    json_result = json.loads(result.content)\n",
    "    return json_result\n",
    "\n",
    "# get recommendations based on tracks\n",
    "def get_recommendations(token, seed_tracks):\n",
    "    url = f\"https://api.spotify.com/v1/recommendations?market=CA&limit=1&seed_tracks={seed_tracks}\"\n",
    "    headers = get_auth_header(token)\n",
    "    result = get(url, headers=headers)\n",
    "    json_result = json.loads(result.content)['tracks']\n",
    "    return json_result\n"
   ]
  },
  {
   "cell_type": "markdown",
   "metadata": {},
   "source": [
    "#### Set up token and play around"
   ]
  },
  {
   "cell_type": "code",
   "execution_count": 5,
   "metadata": {},
   "outputs": [
    {
     "name": "stdout",
     "output_type": "stream",
     "text": [
      "Of Monsters and Men Top Tracks\n",
      "1. Little Talks\n",
      "2. Dirty Paws\n",
      "3. Mountain Sound\n",
      "4. King And Lionheart\n",
      "5. Crystals\n",
      "6. Love Love Love\n",
      "7. Alligator\n",
      "8. Wolves Without Teeth\n",
      "9. Human\n",
      "10. Empire\n"
     ]
    }
   ],
   "source": [
    "token = get_token()\n",
    "result = search_for_artist(token, \"Of Monsters and Men\")\n",
    "artist_id = result[\"id\"]\n",
    "print(result['name'], \"Top Tracks\")\n",
    "songs = get_songs_by_artist(token, artist_id)\n",
    "for idx, song in enumerate(songs):\n",
    "    print(f\"{idx + 1}. {song['name']}\")"
   ]
  },
  {
   "cell_type": "markdown",
   "metadata": {},
   "source": [
    "## PROJECT PLAN\n",
    "**Problem:** Given a song, recommend 5 new songs.<br><br>\n",
    "**Solution:**\n",
    "1. Build and train the model\n",
    "    1. Use the Spotify Web API's *Get Tracks' Audio Features* to get the features of tracks.\n",
    "    2. Perform exploratory data analysis to find general patterns, missing values, identify outliers, etc.\n",
    "    3. Perform feature engineering to remove irrelevant data, combine data, and mutate data.\n",
    "    4. Use Spotify Web API's *Get Recommendations* as labeled data.\n",
    "    5. Train the model.<br><br>\n",
    "2. Test the model\n",
    "    1. Input a song.\n",
    "    2. Use the Spotify Web API to get the track's audio features.\n",
    "    2. Check the proximity of model's recommended songs vs Spotify's recommended songs.<br><br>\n",
    "3. Use the model\n",
    "    1. Input a song.\n",
    "    2. Enjoy the 5 recommended songs :)"
   ]
  },
  {
   "cell_type": "markdown",
   "metadata": {},
   "source": [
    "## EDA and Feature Engineering"
   ]
  },
  {
   "cell_type": "markdown",
   "metadata": {},
   "source": [
    "#### Load in data from Kaggle dataset"
   ]
  },
  {
   "cell_type": "code",
   "execution_count": 6,
   "metadata": {},
   "outputs": [
    {
     "data": {
      "text/html": [
       "<div>\n",
       "<style scoped>\n",
       "    .dataframe tbody tr th:only-of-type {\n",
       "        vertical-align: middle;\n",
       "    }\n",
       "\n",
       "    .dataframe tbody tr th {\n",
       "        vertical-align: top;\n",
       "    }\n",
       "\n",
       "    .dataframe thead th {\n",
       "        text-align: right;\n",
       "    }\n",
       "</style>\n",
       "<table border=\"1\" class=\"dataframe\">\n",
       "  <thead>\n",
       "    <tr style=\"text-align: right;\">\n",
       "      <th></th>\n",
       "      <th>Unnamed: 0</th>\n",
       "      <th>artist_name</th>\n",
       "      <th>track_name</th>\n",
       "      <th>track_id</th>\n",
       "      <th>popularity</th>\n",
       "      <th>year</th>\n",
       "      <th>genre</th>\n",
       "      <th>danceability</th>\n",
       "      <th>energy</th>\n",
       "      <th>key</th>\n",
       "      <th>loudness</th>\n",
       "      <th>mode</th>\n",
       "      <th>speechiness</th>\n",
       "      <th>acousticness</th>\n",
       "      <th>instrumentalness</th>\n",
       "      <th>liveness</th>\n",
       "      <th>valence</th>\n",
       "      <th>tempo</th>\n",
       "      <th>duration_ms</th>\n",
       "      <th>time_signature</th>\n",
       "    </tr>\n",
       "  </thead>\n",
       "  <tbody>\n",
       "    <tr>\n",
       "      <th>0</th>\n",
       "      <td>0</td>\n",
       "      <td>Jason Mraz</td>\n",
       "      <td>I Won't Give Up</td>\n",
       "      <td>53QF56cjZA9RTuuMZDrSA6</td>\n",
       "      <td>68</td>\n",
       "      <td>2012</td>\n",
       "      <td>acoustic</td>\n",
       "      <td>0.483</td>\n",
       "      <td>0.303</td>\n",
       "      <td>4</td>\n",
       "      <td>-10.058</td>\n",
       "      <td>1</td>\n",
       "      <td>0.0429</td>\n",
       "      <td>0.694</td>\n",
       "      <td>0.0</td>\n",
       "      <td>0.115</td>\n",
       "      <td>0.139</td>\n",
       "      <td>133.406</td>\n",
       "      <td>240166</td>\n",
       "      <td>3</td>\n",
       "    </tr>\n",
       "  </tbody>\n",
       "</table>\n",
       "</div>"
      ],
      "text/plain": [
       "   Unnamed: 0 artist_name       track_name                track_id  \\\n",
       "0           0  Jason Mraz  I Won't Give Up  53QF56cjZA9RTuuMZDrSA6   \n",
       "\n",
       "   popularity  year     genre  danceability  energy  key  loudness  mode  \\\n",
       "0          68  2012  acoustic         0.483   0.303    4   -10.058     1   \n",
       "\n",
       "   speechiness  acousticness  instrumentalness  liveness  valence    tempo  \\\n",
       "0       0.0429         0.694               0.0     0.115    0.139  133.406   \n",
       "\n",
       "   duration_ms  time_signature  \n",
       "0       240166               3  "
      ]
     },
     "execution_count": 6,
     "metadata": {},
     "output_type": "execute_result"
    }
   ],
   "source": [
    "# load in the data and display first track\n",
    "all_song_data = pd.read_csv(\"spotify_data.csv\")\n",
    "all_song_data.head(1)"
   ]
  },
  {
   "cell_type": "code",
   "execution_count": 7,
   "metadata": {},
   "outputs": [
    {
     "data": {
      "text/html": [
       "<div>\n",
       "<style scoped>\n",
       "    .dataframe tbody tr th:only-of-type {\n",
       "        vertical-align: middle;\n",
       "    }\n",
       "\n",
       "    .dataframe tbody tr th {\n",
       "        vertical-align: top;\n",
       "    }\n",
       "\n",
       "    .dataframe thead th {\n",
       "        text-align: right;\n",
       "    }\n",
       "</style>\n",
       "<table border=\"1\" class=\"dataframe\">\n",
       "  <thead>\n",
       "    <tr style=\"text-align: right;\">\n",
       "      <th></th>\n",
       "      <th>artist_name</th>\n",
       "      <th>track_name</th>\n",
       "      <th>track_id</th>\n",
       "      <th>popularity</th>\n",
       "      <th>year</th>\n",
       "      <th>genre</th>\n",
       "      <th>danceability</th>\n",
       "      <th>energy</th>\n",
       "      <th>key</th>\n",
       "      <th>loudness</th>\n",
       "      <th>mode</th>\n",
       "      <th>speechiness</th>\n",
       "      <th>acousticness</th>\n",
       "      <th>instrumentalness</th>\n",
       "      <th>liveness</th>\n",
       "      <th>valence</th>\n",
       "      <th>tempo</th>\n",
       "      <th>duration_ms</th>\n",
       "      <th>time_signature</th>\n",
       "    </tr>\n",
       "  </thead>\n",
       "  <tbody>\n",
       "    <tr>\n",
       "      <th>0</th>\n",
       "      <td>Jason Mraz</td>\n",
       "      <td>I Won't Give Up</td>\n",
       "      <td>53QF56cjZA9RTuuMZDrSA6</td>\n",
       "      <td>68</td>\n",
       "      <td>2012</td>\n",
       "      <td>acoustic</td>\n",
       "      <td>0.483</td>\n",
       "      <td>0.303</td>\n",
       "      <td>4</td>\n",
       "      <td>-10.058</td>\n",
       "      <td>1</td>\n",
       "      <td>0.0429</td>\n",
       "      <td>0.694</td>\n",
       "      <td>0.0</td>\n",
       "      <td>0.115</td>\n",
       "      <td>0.139</td>\n",
       "      <td>133.406</td>\n",
       "      <td>240166</td>\n",
       "      <td>3</td>\n",
       "    </tr>\n",
       "  </tbody>\n",
       "</table>\n",
       "</div>"
      ],
      "text/plain": [
       "  artist_name       track_name                track_id  popularity  year  \\\n",
       "0  Jason Mraz  I Won't Give Up  53QF56cjZA9RTuuMZDrSA6          68  2012   \n",
       "\n",
       "      genre  danceability  energy  key  loudness  mode  speechiness  \\\n",
       "0  acoustic         0.483   0.303    4   -10.058     1       0.0429   \n",
       "\n",
       "   acousticness  instrumentalness  liveness  valence    tempo  duration_ms  \\\n",
       "0         0.694               0.0     0.115    0.139  133.406       240166   \n",
       "\n",
       "   time_signature  \n",
       "0               3  "
      ]
     },
     "execution_count": 7,
     "metadata": {},
     "output_type": "execute_result"
    }
   ],
   "source": [
    "# drop the first column since it is just the index\n",
    "all_song_data = all_song_data.drop(all_song_data.columns[0], axis=1)\n",
    "all_song_data.head(1)"
   ]
  },
  {
   "cell_type": "code",
   "execution_count": 8,
   "metadata": {},
   "outputs": [
    {
     "name": "stdout",
     "output_type": "stream",
     "text": [
      "['folk-pop', 'metropopolis', 'modern rock', 'stomp and holler']\n",
      "['acoustic pop', 'dance pop', 'neo mellow', 'pop']\n",
      "['acoustic', 'afrobeat', 'alt-rock', 'ambient', 'black-metal', 'blues', 'breakbeat', 'cantopop', 'chicago-house', 'chill', 'classical', 'club', 'comedy', 'country', 'dance', 'dancehall', 'death-metal', 'deep-house', 'detroit-techno', 'disco', 'drum-and-bass', 'dub', 'dubstep', 'edm', 'electro', 'electronic', 'emo', 'folk', 'forro', 'french', 'funk', 'garage', 'german', 'gospel', 'goth', 'grindcore', 'groove', 'guitar', 'hard-rock', 'hardcore', 'hardstyle', 'heavy-metal', 'hip-hop', 'house', 'indian', 'indie-pop', 'industrial', 'jazz', 'k-pop', 'metal', 'metalcore', 'minimal-techno', 'new-age', 'opera', 'party', 'piano', 'pop', 'pop-film', 'power-pop', 'progressive-house', 'psych-rock', 'punk', 'punk-rock', 'rock', 'rock-n-roll', 'romance', 'sad', 'salsa', 'samba', 'sertanejo', 'show-tunes', 'singer-songwriter', 'ska', 'sleep', 'songwriter', 'soul', 'spanish', 'swedish', 'tango', 'techno', 'trance', 'trip-hop']\n",
      "True\n"
     ]
    }
   ],
   "source": [
    "# use artist id from earlier to check format of genre\n",
    "artist_genre = get_artist(token, artist_id)['genres']\n",
    "print(artist_genre)\n",
    "jason_mraz = search_for_artist(token, \"Jason Mraz\")['id']\n",
    "jason_genre = get_artist(token, jason_mraz)['genres']\n",
    "print(jason_genre)\n",
    "kaggle_genres = list(all_song_data['genre'].unique())\n",
    "print(kaggle_genres)\n",
    "print('dance' in kaggle_genres)"
   ]
  },
  {
   "cell_type": "markdown",
   "metadata": {},
   "source": [
    "#### Manually reduce amount of genres"
   ]
  },
  {
   "cell_type": "code",
   "execution_count": 13,
   "metadata": {},
   "outputs": [
    {
     "name": "stdout",
     "output_type": "stream",
     "text": [
      "pop: cantopop\n",
      "pop: indie-pop\n",
      "indie: indie-pop\n",
      "pop: k-pop\n",
      "pop: pop\n",
      "pop: pop-film\n",
      "pop: power-pop\n",
      "['acoustic', 'afrobeat', 'ambient', 'blues', 'breakbeat', 'cantopop', 'chicago-house', 'chill', 'classical', 'club', 'comedy', 'country', 'dance', 'dancehall', 'deep-house', 'detroit-techno', 'disco', 'drum-and-bass', 'dub', 'dubstep', 'edm', 'electro', 'electronic', 'emo', 'folk', 'forro', 'french', 'funk', 'garage', 'german', 'gospel', 'goth', 'grindcore', 'groove', 'guitar', 'hardcore', 'hardstyle', 'hip-hop', 'house', 'indian', 'indie-pop', 'industrial', 'jazz', 'k-pop', 'metal', 'minimal-techno', 'new-age', 'opera', 'party', 'piano', 'pop', 'pop-film', 'power-pop', 'progressive-house', 'punk', 'rock', 'romance', 'sad', 'salsa', 'samba', 'sertanejo', 'show-tunes', 'singer-songwriter', 'ska', 'sleep', 'songwriter', 'soul', 'spanish', 'swedish', 'tango', 'techno', 'trance', 'trip-hop']\n"
     ]
    }
   ],
   "source": [
    "# list of genres to remove\n",
    "remove_genres = []\n",
    "# loop through all genres\n",
    "for genre in kaggle_genres:\n",
    "    # there are 5 subgenres of metal that can be reduced to just metal\n",
    "    if \"metal\" in genre:\n",
    "        if genre != \"metal\":\n",
    "            remove_genres.append(genre)\n",
    "    if \"pop\" in genre:\n",
    "        print('pop:', genre)\n",
    "    if \"indie\" in genre:\n",
    "        print('indie:', genre)\n",
    "    # there are 6 subgenres of rock that can be reduced to just rock\n",
    "    if \"rock\" in genre:\n",
    "        if genre != \"rock\":\n",
    "            remove_genres.append(genre)\n",
    "\n",
    "# remove the genres in remove_genres\n",
    "for genre in remove_genres:\n",
    "    kaggle_genres.remove(genre)\n",
    "\n",
    "print(kaggle_genres)\n"
   ]
  },
  {
   "cell_type": "markdown",
   "metadata": {},
   "source": [
    "#### One Hot Encode the Genres in Kaggle Dataset"
   ]
  },
  {
   "cell_type": "code",
   "execution_count": null,
   "metadata": {},
   "outputs": [],
   "source": []
  },
  {
   "cell_type": "markdown",
   "metadata": {},
   "source": [
    "#### Find difference in genres between Kaggle dataset and Spotify's genres"
   ]
  },
  {
   "cell_type": "code",
   "execution_count": 8,
   "metadata": {},
   "outputs": [],
   "source": [
    "'''# variables with the genres from kaggle and genres from spotify\n",
    "spotify_genres = get_genres(token)['genres']\n",
    "kaggle_genres = list(all_song_data['genre'].unique())\n",
    "\n",
    "difference = list(set(kaggle_genres) - set(spotify_genres))\n",
    "print(\"Genres in Kaggle dataset but not in Spotify dataset:\", len(difference))\n",
    "difference2 = list(set(spotify_genres) - set(kaggle_genres))\n",
    "print(\"Genres in Spotify dataset but not in Kaggle dataset:\", len(difference2))'''\n",
    "# temporarily commented out cause currently timed out from Spotify API\n",
    "peng = 1"
   ]
  },
  {
   "cell_type": "markdown",
   "metadata": {},
   "source": [
    "#### Get recommendations for all tracks in Kaggle dataset\n",
    "Did not work because I'm making 1 million get requests to the Spotify API and so Response 429 was raised stopping me from making more get requests.<br><br>\n",
    "I'll try to do this later on a smaller scale!"
   ]
  },
  {
   "cell_type": "code",
   "execution_count": 9,
   "metadata": {},
   "outputs": [],
   "source": [
    "'''# begin process of getting recommendations for all 1 million tracks\n",
    "for trackid in all_song_data['track_id']:\n",
    "    rec_track = get_recommendations(token, trackid)['tracks']\n",
    "    for track in rec_track:\n",
    "        rec_id = track['id']\n",
    "\n",
    "# split data into train data and test data\n",
    "from sklearn.model_selection import train_test_split\n",
    "#X_train, X_test, y_train, y_test = train_test_split()'''\n",
    "jeffrey = 1"
   ]
  }
 ],
 "metadata": {
  "kernelspec": {
   "display_name": "Python 3",
   "language": "python",
   "name": "python3"
  },
  "language_info": {
   "codemirror_mode": {
    "name": "ipython",
    "version": 3
   },
   "file_extension": ".py",
   "mimetype": "text/x-python",
   "name": "python",
   "nbconvert_exporter": "python",
   "pygments_lexer": "ipython3",
   "version": "3.10.13"
  }
 },
 "nbformat": 4,
 "nbformat_minor": 2
}
