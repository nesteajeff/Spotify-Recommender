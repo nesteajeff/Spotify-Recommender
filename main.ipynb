{
 "cells": [
  {
   "cell_type": "code",
   "execution_count": 38,
   "metadata": {},
   "outputs": [],
   "source": [
    "from dotenv import load_dotenv\n",
    "import os\n",
    "import base64\n",
    "from requests import post, get\n",
    "import json\n",
    "\n",
    "load_dotenv()\n",
    "\n",
    "client_id = os.getenv(\"CLIENT_ID\")\n",
    "client_secret = os.getenv(\"CLIENT_SECRET\") \n",
    "\n",
    "def get_token():\n",
    "    auth_string = client_id + \":\" + client_secret\n",
    "    auth_bytes = auth_string.encode(\"utf-8\")\n",
    "    auth_base64 = str(base64.b64encode(auth_bytes), \"utf-8\")\n",
    "\n",
    "    url = \"https://accounts.spotify.com/api/token\"\n",
    "    headers = {\n",
    "        \"Authorization\": \"Basic \" + auth_base64,\n",
    "        \"Content-Type\": \"application/x-www-form-urlencoded\"\n",
    "    }\n",
    "    data = {\"grant_type\": \"client_credentials\"}\n",
    "    result = post(url, headers=headers, data=data)\n",
    "    json_result = json.loads(result.content)\n",
    "    token = json_result[\"access_token\"]\n",
    "    return token\n",
    "\n",
    "def get_auth_header(token):\n",
    "    return {\"Authorization\": \"Bearer \" + token}\n",
    "\n",
    "def search_for_artist(token, artist_name):\n",
    "    url = \"https://api.spotify.com/v1/search\"\n",
    "    headers = get_auth_header(token)\n",
    "    query = f\"?q={artist_name}&type=artist&limit=1\"\n",
    "\n",
    "    query_url = url + query\n",
    "    result = get(query_url, headers=headers)\n",
    "    json_result = json.loads(result.content)[\"artists\"][\"items\"]\n",
    "    if len(json_result) == 0:\n",
    "        print(\"No artist with this name exists...\")\n",
    "        return None\n",
    "    \n",
    "    return json_result[0]\n",
    "\n",
    "def get_songs_by_artist(token, artist_id):\n",
    "    url = f\"https://api.spotify.com/v1/artists/{artist_id}/top-tracks?country=CA\"\n",
    "    headers = get_auth_header(token)\n",
    "    result = get(url, headers=headers)\n",
    "    json_result = json.loads(result.content)[\"tracks\"]\n",
    "    return json_result\n",
    "\n",
    "def get_markets(token):\n",
    "    url = \"https://api.spotify.com/v1/markets\"\n",
    "    headers = get_auth_header(token)\n",
    "    result = get(url, headers=headers)\n",
    "    json_result = json.loads(result.content)\n",
    "    return json_result\n"
   ]
  },
  {
   "cell_type": "code",
   "execution_count": 39,
   "metadata": {},
   "outputs": [
    {
     "name": "stdout",
     "output_type": "stream",
     "text": [
      "1. Little Talks\n",
      "2. Dirty Paws\n",
      "3. Mountain Sound\n",
      "4. King And Lionheart\n",
      "5. Crystals\n",
      "6. Love Love Love\n",
      "7. Alligator\n",
      "8. Wolves Without Teeth\n",
      "9. Human\n",
      "10. Empire\n"
     ]
    }
   ],
   "source": [
    "token = get_token()\n",
    "result = search_for_artist(token, \"Of Monsters and Men\")\n",
    "artist_id = result[\"id\"]\n",
    "songs = get_songs_by_artist(token, artist_id)\n",
    "for idx, song in enumerate(songs):\n",
    "    print(f\"{idx + 1}. {song['name']}\")\n",
    "markets = get_markets(token)"
   ]
  },
  {
   "cell_type": "markdown",
   "metadata": {},
   "source": [
    "# PLAN\n",
    "**Problem**: Given a song, recommend 5 new songs.\n",
    "**Solution**: "
   ]
  }
 ],
 "metadata": {
  "kernelspec": {
   "display_name": "Python 3",
   "language": "python",
   "name": "python3"
  },
  "language_info": {
   "codemirror_mode": {
    "name": "ipython",
    "version": 3
   },
   "file_extension": ".py",
   "mimetype": "text/x-python",
   "name": "python",
   "nbconvert_exporter": "python",
   "pygments_lexer": "ipython3",
   "version": "3.10.13"
  }
 },
 "nbformat": 4,
 "nbformat_minor": 2
}
